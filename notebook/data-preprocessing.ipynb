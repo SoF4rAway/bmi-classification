{
 "cells": [
  {
   "cell_type": "code",
   "execution_count": 2,
   "metadata": {},
   "outputs": [],
   "source": [
    "import pandas as pd\n",
    "import numpy as np\n",
    "import os\n",
    "import joblib\n",
    "\n",
    "from sklearn.preprocessing import StandardScaler, OneHotEncoder\n",
    "from sklearn.model_selection import train_test_split\n",
    "\n",
    "seed = 1\n",
    "np.random.seed(seed)\n",
    "\n",
    "root_dir = \"E:\\\\Repositories\\\\personal-projects\\\\ai-ml-projects\\\\bmi-classification\"\n",
    "os.chdir(root_dir)"
   ]
  },
  {
   "cell_type": "code",
   "execution_count": 3,
   "metadata": {},
   "outputs": [],
   "source": [
    "data_path = os.path.join(root_dir, \"data\", \"intermediate\")"
   ]
  },
  {
   "cell_type": "code",
   "execution_count": 4,
   "metadata": {},
   "outputs": [
    {
     "name": "stdout",
     "output_type": "stream",
     "text": [
      "     Gender    Height    Weight  Index_0  Index_1  Index_2  Index_3  Index_4  \\\n",
      "0  1.011174  0.235303 -0.310062      0.0      0.0      0.0      0.0      1.0   \n",
      "1  1.011174  1.147330 -0.588376      0.0      0.0      1.0      0.0      0.0   \n",
      "2 -0.988950  0.904123  0.122870      0.0      0.0      0.0      0.0      1.0   \n",
      "3 -0.988950  1.512141 -0.062672      0.0      0.0      0.0      1.0      0.0   \n",
      "4  1.011174 -1.284742 -1.392394      0.0      0.0      0.0      1.0      0.0   \n",
      "\n",
      "   Index_5  \n",
      "0      0.0  \n",
      "1      0.0  \n",
      "2      0.0  \n",
      "3      0.0  \n",
      "4      0.0  \n"
     ]
    }
   ],
   "source": [
    "class Dataset:\n",
    "    def __init__(self, data_path, std_scaler=StandardScaler(), one_hot_encoder=OneHotEncoder(sparse_output=False)):\n",
    "        self.data_path = data_path\n",
    "        self.std_scaler = std_scaler\n",
    "        self.one_hot_encoder = one_hot_encoder\n",
    "    \n",
    "    def load_data(self):\n",
    "        data_frames = []\n",
    "        for file in os.listdir(self.data_path):\n",
    "            if file.endswith(\".csv\"):\n",
    "                data_buffer = pd.read_csv(os.path.join(self.data_path, file))\n",
    "                data_frames.append(data_buffer)\n",
    "        \n",
    "        if not data_frames:\n",
    "            print(\"No CSV files found in the specified directory.\")\n",
    "            return None\n",
    "        \n",
    "        # Combine all data frames into a single data frame\n",
    "        combined_data = pd.concat(data_frames, ignore_index=True)\n",
    "        \n",
    "        return combined_data\n",
    "    \n",
    "    def preprocessing(self):\n",
    "        data = self.load_data()\n",
    "        if data is None:\n",
    "            return None\n",
    "        \n",
    "        # Encode the 'Index' column\n",
    "        index_encoded = self.one_hot_encoder.fit_transform(data[['Index']])\n",
    "        index_encoded_df = pd.DataFrame(index_encoded, columns=self.one_hot_encoder.get_feature_names_out(['Index']))\n",
    "        \n",
    "        # Drop the original 'Index' column and concatenate the encoded columns\n",
    "        data = data.drop('Index', axis=1)\n",
    "        data = pd.concat([data, index_encoded_df], axis=1)\n",
    "        \n",
    "        # Standardize the features\n",
    "        feature_columns = data.columns.difference(index_encoded_df.columns)\n",
    "        data[feature_columns] = self.std_scaler.fit_transform(data[feature_columns])\n",
    "        joblib.dump(self.std_scaler, os.path.join(self.data_path, \"std_scaler.pkl\"))\n",
    "        joblib.dump(feature_columns, os.path.join(self.data_path, \"feature_columns.pkl\"))\n",
    "        \n",
    "        return data\n",
    "\n",
    "dataset = Dataset(data_path)\n",
    "data = dataset.preprocessing()\n",
    "\n",
    "if data is not None:\n",
    "    print(data.head())\n"
   ]
  },
  {
   "cell_type": "code",
   "execution_count": 12,
   "metadata": {},
   "outputs": [],
   "source": [
    "data.to_csv(os.path.join(root_dir, 'data', 'processed', 'bmi_data.csv'), index=False)"
   ]
  }
 ],
 "metadata": {
  "kernelspec": {
   "display_name": "mlenv",
   "language": "python",
   "name": "python3"
  },
  "language_info": {
   "codemirror_mode": {
    "name": "ipython",
    "version": 3
   },
   "file_extension": ".py",
   "mimetype": "text/x-python",
   "name": "python",
   "nbconvert_exporter": "python",
   "pygments_lexer": "ipython3",
   "version": "3.10.9"
  }
 },
 "nbformat": 4,
 "nbformat_minor": 2
}
