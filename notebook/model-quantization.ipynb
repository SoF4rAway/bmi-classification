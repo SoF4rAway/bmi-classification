{
 "cells": [
  {
   "cell_type": "markdown",
   "metadata": {},
   "source": [
    "# Model Training and Quantization"
   ]
  },
  {
   "cell_type": "code",
   "execution_count": 1,
   "metadata": {},
   "outputs": [],
   "source": [
    "import tensorflow as tf\n",
    "from tensorflow import keras\n",
    "from tensorflow.keras import layers, optimizers\n",
    "\n",
    "import tensorflow_model_optimization as tfmot\n",
    "\n",
    "from sklearn.model_selection import train_test_split\n",
    "from sklearn.metrics import classification_report, confusion_matrix, accuracy_score, precision_score, recall_score, f1_score\n",
    "\n",
    "import numpy as np\n",
    "import matplotlib.pyplot as plt\n",
    "import seaborn as sns\n",
    "import pandas as pd\n",
    "\n",
    "import os\n",
    "\n",
    "seed = 42\n",
    "np.random.seed(seed)\n",
    "tf.random.set_seed(seed)\n",
    "\n",
    "physical_devices = tf.config.list_physical_devices('GPU')\n",
    "tf.config.experimental.set_memory_growth(physical_devices[0], True)\n",
    "\n",
    "root_dir = \"E:\\\\Repositories\\\\personal-projects\\\\ai-ml-projects\\\\bmi-classification\"\n",
    "os.chdir(root_dir)\n",
    "\n",
    "data_path = os.path.join(root_dir, \"data\", \"processed\")\n",
    "log_dir = os.path.join(root_dir, \"logs\")\n",
    "model_dir = os.path.join(root_dir, \"models\")"
   ]
  },
  {
   "cell_type": "code",
   "execution_count": 2,
   "metadata": {},
   "outputs": [],
   "source": [
    "def plot_loss_and_accuracy(history):\n",
    "    plt.figure(figsize=(12, 5))\n",
    "\n",
    "    # Plotting Loss\n",
    "    plt.subplot(1, 2, 1)\n",
    "    plt.plot(history.history['loss'], label='Train Loss')\n",
    "    plt.plot(history.history['val_loss'], label='Validation Loss')\n",
    "    plt.xlabel('Epoch')\n",
    "    plt.ylabel('Loss')\n",
    "    plt.legend()\n",
    "    plt.grid(True)\n",
    "    plt.title('Loss Over Epochs')\n",
    "\n",
    "    # Plotting Accuracy\n",
    "    plt.subplot(1, 2, 2)\n",
    "    plt.plot(history.history['accuracy'], label='Train Accuracy')\n",
    "    plt.plot(history.history['val_accuracy'], label='Validatioaccuracy')\n",
    "    plt.xlabel('Epoch')\n",
    "    plt.ylabel('Accuracy')\n",
    "    plt.legend()\n",
    "    plt.grid(True)\n",
    "    plt.title('Accuracy Over Epochs')\n",
    "\n",
    "    plt.tight_layout()\n",
    "    plt.show()"
   ]
  },
  {
   "cell_type": "markdown",
   "metadata": {},
   "source": [
    "### Dataset Preparation"
   ]
  },
  {
   "cell_type": "code",
   "execution_count": 3,
   "metadata": {},
   "outputs": [],
   "source": [
    "class Dataset:\n",
    "    def __init__(self, data_path):\n",
    "        self.data_path = data_path\n",
    "\n",
    "    def load_data(self):\n",
    "        data_frames = []\n",
    "        for file in os.listdir(self.data_path):\n",
    "            if file.endswith(\".csv\"):\n",
    "                data_buffer = pd.read_csv(os.path.join(self.data_path, file))\n",
    "                data_frames.append(data_buffer)\n",
    "        \n",
    "        if not data_frames:\n",
    "            print(\"No CSV files found in the specified directory.\")\n",
    "            return None\n",
    "        \n",
    "        # Combine all data frames into a single data frame\n",
    "        combined_data = pd.concat(data_frames, ignore_index=True)\n",
    "        \n",
    "        return combined_data\n",
    "    \n",
    "    def preprocess_data(self):\n",
    "        data = self.load_data()\n",
    "        if data is None:\n",
    "            return None\n",
    "        \n",
    "        X = data.drop(columns=data.columns[-6:]).astype(np.float32)\n",
    "        y = data[data.columns[-6:]].astype(np.float32)\n",
    "        \n",
    "        X_train, X_subset, y_train, y_subset = train_test_split(X, y, test_size=0.2, random_state=seed)\n",
    "        X_val, X_test, y_val, y_test = train_test_split(X_subset, y_subset, test_size=0.5, random_state=seed)\n",
    "\n",
    "        return X_train, X_val, X_test, y_train, y_val, y_test"
   ]
  },
  {
   "cell_type": "markdown",
   "metadata": {},
   "source": [
    "### Model Definition"
   ]
  },
  {
   "cell_type": "code",
   "execution_count": 4,
   "metadata": {},
   "outputs": [],
   "source": [
    "def BMIModel(input_shape, num_classes):\n",
    "    inputs = keras.Input(shape=input_shape)\n",
    "    x = layers.Dense(512)(inputs)\n",
    "    x = layers.Activation('relu')(x)\n",
    "    x = layers.Dense(512)(x)\n",
    "    x = layers.BatchNormalization()(x)\n",
    "    x = layers.Activation('relu')(x)\n",
    "    x = layers.Dropout(0.1)(x)\n",
    "    outputs = layers.Dense(num_classes, activation='softmax')(x)\n",
    "\n",
    "    return keras.Model(inputs, outputs)\n",
    "\n",
    "# class BMIModel(keras.Model):\n",
    "#     def __init__(self, num_classes):\n",
    "#         super(BMIModel, self).__init__()\n",
    "#         self.num_layer = 2\n",
    "#         self.hidden_layer = []\n",
    "#         for i in range(self.num_layer):\n",
    "#             self.hidden_layer.append(layers.Dense(512, activation='relu'))\n",
    "#         self.batch_norm = layers.BatchNormalization()\n",
    "#         self.dropout = layers.Dropout(0.1)\n",
    "#         self.output_layer = layers.Dense(num_classes, activation='softmax')\n",
    "\n",
    "#     def call(self, inputs):\n",
    "#         x = inputs\n",
    "#         for i in range(self.num_layer):\n",
    "#             x = self.hidden_layer[i](x)\n",
    "#         x = self.batch_norm(x)\n",
    "#         x = self.dropout(x)\n",
    "#         x = self.output_layer(x)\n",
    "#         return x\n"
   ]
  },
  {
   "cell_type": "markdown",
   "metadata": {},
   "source": [
    "### Base Model Training"
   ]
  },
  {
   "cell_type": "code",
   "execution_count": 5,
   "metadata": {},
   "outputs": [
    {
     "name": "stdout",
     "output_type": "stream",
     "text": [
      "Model: \"model\"\n",
      "_________________________________________________________________\n",
      " Layer (type)                Output Shape              Param #   \n",
      "=================================================================\n",
      " input_1 (InputLayer)        [(None, 3)]               0         \n",
      "                                                                 \n",
      " dense (Dense)               (None, 512)               2048      \n",
      "                                                                 \n",
      " activation (Activation)     (None, 512)               0         \n",
      "                                                                 \n",
      " dense_1 (Dense)             (None, 512)               262656    \n",
      "                                                                 \n",
      " batch_normalization (BatchN  (None, 512)              2048      \n",
      " ormalization)                                                   \n",
      "                                                                 \n",
      " activation_1 (Activation)   (None, 512)               0         \n",
      "                                                                 \n",
      " dropout (Dropout)           (None, 512)               0         \n",
      "                                                                 \n",
      " dense_2 (Dense)             (None, 6)                 3078      \n",
      "                                                                 \n",
      "=================================================================\n",
      "Total params: 269,830\n",
      "Trainable params: 268,806\n",
      "Non-trainable params: 1,024\n",
      "_________________________________________________________________\n"
     ]
    }
   ],
   "source": [
    "# Preprocess data\n",
    "X_train, X_val, X_test, y_train, y_val, y_test = Dataset(data_path).preprocess_data()\n",
    "\n",
    "def lrdecay(epoch):\n",
    "    lr = 0.01\n",
    "    if epoch > 40:\n",
    "        lr *= 0.5 ** ((epoch - 40) // 5)\n",
    "    elif epoch > 20:\n",
    "        lr *= 0.1\n",
    "    return lr\n",
    "\n",
    "# Create the learning rate scheduler callback\n",
    "lr_scheduler = tf.keras.callbacks.LearningRateScheduler(lrdecay, verbose=1)\n",
    "\n",
    "# Instantiate the model with a different variable name\n",
    "bmi_model = BMIModel(X_train.shape[1], y_train.shape[1])\n",
    "\n",
    "# Build the model\n",
    "bmi_model.build(input_shape=(None, X_train.shape[1]))\n",
    "\n",
    "# Compile the model\n",
    "bmi_model.compile(\n",
    "    optimizer=optimizers.Adam(learning_rate=0.001),\n",
    "    loss='categorical_crossentropy',\n",
    "    metrics=['accuracy']\n",
    ")\n",
    "\n",
    "\n",
    "bmi_model.summary()\n"
   ]
  },
  {
   "cell_type": "code",
   "execution_count": 6,
   "metadata": {},
   "outputs": [
    {
     "name": "stdout",
     "output_type": "stream",
     "text": [
      "\n",
      "Epoch 1: LearningRateScheduler setting learning rate to 0.01.\n",
      "Epoch 1/100\n",
      "23/23 [==============================] - 1s 17ms/step - loss: 1.0334 - accuracy: 0.6375 - val_loss: 1.3972 - val_accuracy: 0.4444 - lr: 0.0100\n",
      "\n",
      "Epoch 2: LearningRateScheduler setting learning rate to 0.01.\n",
      "Epoch 2/100\n",
      "23/23 [==============================] - 0s 4ms/step - loss: 0.5962 - accuracy: 0.7653 - val_loss: 2.4145 - val_accuracy: 0.4111 - lr: 0.0100\n",
      "\n",
      "Epoch 3: LearningRateScheduler setting learning rate to 0.01.\n",
      "Epoch 3/100\n",
      "23/23 [==============================] - 0s 4ms/step - loss: 0.5240 - accuracy: 0.7792 - val_loss: 2.2974 - val_accuracy: 0.4333 - lr: 0.0100\n",
      "\n",
      "Epoch 4: LearningRateScheduler setting learning rate to 0.01.\n",
      "Epoch 4/100\n",
      "23/23 [==============================] - 0s 4ms/step - loss: 0.5021 - accuracy: 0.7903 - val_loss: 2.0108 - val_accuracy: 0.4778 - lr: 0.0100\n",
      "\n",
      "Epoch 5: LearningRateScheduler setting learning rate to 0.01.\n",
      "Epoch 5/100\n",
      "23/23 [==============================] - 0s 4ms/step - loss: 0.4978 - accuracy: 0.7944 - val_loss: 1.6193 - val_accuracy: 0.5222 - lr: 0.0100\n",
      "\n",
      "Epoch 6: LearningRateScheduler setting learning rate to 0.01.\n",
      "Epoch 6/100\n",
      "23/23 [==============================] - 0s 4ms/step - loss: 0.5150 - accuracy: 0.7903 - val_loss: 1.3062 - val_accuracy: 0.5444 - lr: 0.0100\n",
      "\n",
      "Epoch 7: LearningRateScheduler setting learning rate to 0.01.\n",
      "Epoch 7/100\n",
      "23/23 [==============================] - 0s 4ms/step - loss: 0.5296 - accuracy: 0.7833 - val_loss: 0.8869 - val_accuracy: 0.6222 - lr: 0.0100\n",
      "\n",
      "Epoch 8: LearningRateScheduler setting learning rate to 0.01.\n",
      "Epoch 8/100\n",
      "23/23 [==============================] - 0s 4ms/step - loss: 0.5113 - accuracy: 0.7903 - val_loss: 0.6639 - val_accuracy: 0.6778 - lr: 0.0100\n",
      "\n",
      "Epoch 9: LearningRateScheduler setting learning rate to 0.01.\n",
      "Epoch 9/100\n",
      "23/23 [==============================] - 0s 4ms/step - loss: 0.4403 - accuracy: 0.8264 - val_loss: 0.5520 - val_accuracy: 0.7444 - lr: 0.0100\n",
      "\n",
      "Epoch 10: LearningRateScheduler setting learning rate to 0.01.\n",
      "Epoch 10/100\n",
      "23/23 [==============================] - 0s 4ms/step - loss: 0.3936 - accuracy: 0.8264 - val_loss: 0.6676 - val_accuracy: 0.7444 - lr: 0.0100\n",
      "\n",
      "Epoch 11: LearningRateScheduler setting learning rate to 0.01.\n",
      "Epoch 11/100\n",
      "23/23 [==============================] - 0s 4ms/step - loss: 0.3873 - accuracy: 0.8389 - val_loss: 0.7469 - val_accuracy: 0.7222 - lr: 0.0100\n",
      "\n",
      "Epoch 12: LearningRateScheduler setting learning rate to 0.01.\n",
      "Epoch 12/100\n",
      "23/23 [==============================] - 0s 4ms/step - loss: 0.4077 - accuracy: 0.8264 - val_loss: 0.8759 - val_accuracy: 0.7556 - lr: 0.0100\n",
      "\n",
      "Epoch 13: LearningRateScheduler setting learning rate to 0.01.\n",
      "Epoch 13/100\n",
      "23/23 [==============================] - 0s 4ms/step - loss: 0.4297 - accuracy: 0.8083 - val_loss: 1.0471 - val_accuracy: 0.7444 - lr: 0.0100\n",
      "\n",
      "Epoch 14: LearningRateScheduler setting learning rate to 0.01.\n",
      "Epoch 14/100\n",
      "23/23 [==============================] - 0s 4ms/step - loss: 0.4234 - accuracy: 0.8167 - val_loss: 0.8966 - val_accuracy: 0.7667 - lr: 0.0100\n",
      "\n",
      "Epoch 15: LearningRateScheduler setting learning rate to 0.01.\n",
      "Epoch 15/100\n",
      "23/23 [==============================] - 0s 4ms/step - loss: 0.4353 - accuracy: 0.8236 - val_loss: 0.5755 - val_accuracy: 0.8333 - lr: 0.0100\n",
      "\n",
      "Epoch 16: LearningRateScheduler setting learning rate to 0.01.\n",
      "Epoch 16/100\n",
      "23/23 [==============================] - 0s 4ms/step - loss: 0.3731 - accuracy: 0.8528 - val_loss: 0.3572 - val_accuracy: 0.8889 - lr: 0.0100\n",
      "\n",
      "Epoch 17: LearningRateScheduler setting learning rate to 0.01.\n",
      "Epoch 17/100\n",
      "23/23 [==============================] - 0s 4ms/step - loss: 0.3185 - accuracy: 0.8778 - val_loss: 0.3157 - val_accuracy: 0.8667 - lr: 0.0100\n",
      "\n",
      "Epoch 18: LearningRateScheduler setting learning rate to 0.01.\n",
      "Epoch 18/100\n",
      "23/23 [==============================] - 0s 4ms/step - loss: 0.2998 - accuracy: 0.8792 - val_loss: 0.3352 - val_accuracy: 0.8667 - lr: 0.0100\n",
      "\n",
      "Epoch 19: LearningRateScheduler setting learning rate to 0.01.\n",
      "Epoch 19/100\n",
      "23/23 [==============================] - 0s 4ms/step - loss: 0.3067 - accuracy: 0.8722 - val_loss: 0.3247 - val_accuracy: 0.8889 - lr: 0.0100\n",
      "\n",
      "Epoch 20: LearningRateScheduler setting learning rate to 0.01.\n",
      "Epoch 20/100\n",
      "23/23 [==============================] - 0s 4ms/step - loss: 0.2934 - accuracy: 0.8708 - val_loss: 0.3525 - val_accuracy: 0.8333 - lr: 0.0100\n",
      "\n",
      "Epoch 21: LearningRateScheduler setting learning rate to 0.01.\n",
      "Epoch 21/100\n",
      "23/23 [==============================] - 0s 4ms/step - loss: 0.2945 - accuracy: 0.8736 - val_loss: 0.3564 - val_accuracy: 0.8333 - lr: 0.0100\n",
      "\n",
      "Epoch 22: LearningRateScheduler setting learning rate to 0.001.\n",
      "Epoch 22/100\n",
      "23/23 [==============================] - 0s 4ms/step - loss: 0.2461 - accuracy: 0.9014 - val_loss: 0.2802 - val_accuracy: 0.8667 - lr: 0.0010\n",
      "\n",
      "Epoch 23: LearningRateScheduler setting learning rate to 0.001.\n",
      "Epoch 23/100\n",
      "23/23 [==============================] - 0s 4ms/step - loss: 0.1879 - accuracy: 0.9375 - val_loss: 0.2537 - val_accuracy: 0.9111 - lr: 0.0010\n",
      "\n",
      "Epoch 24: LearningRateScheduler setting learning rate to 0.001.\n",
      "Epoch 24/100\n",
      "23/23 [==============================] - 0s 4ms/step - loss: 0.1830 - accuracy: 0.9403 - val_loss: 0.2475 - val_accuracy: 0.8889 - lr: 0.0010\n",
      "\n",
      "Epoch 25: LearningRateScheduler setting learning rate to 0.001.\n",
      "Epoch 25/100\n",
      "23/23 [==============================] - 0s 4ms/step - loss: 0.1829 - accuracy: 0.9347 - val_loss: 0.2444 - val_accuracy: 0.9000 - lr: 0.0010\n",
      "\n",
      "Epoch 26: LearningRateScheduler setting learning rate to 0.001.\n",
      "Epoch 26/100\n",
      "23/23 [==============================] - 0s 4ms/step - loss: 0.1739 - accuracy: 0.9472 - val_loss: 0.2411 - val_accuracy: 0.8889 - lr: 0.0010\n",
      "\n",
      "Epoch 27: LearningRateScheduler setting learning rate to 0.001.\n",
      "Epoch 27/100\n",
      "23/23 [==============================] - 0s 4ms/step - loss: 0.1737 - accuracy: 0.9486 - val_loss: 0.2418 - val_accuracy: 0.9111 - lr: 0.0010\n",
      "\n",
      "Epoch 28: LearningRateScheduler setting learning rate to 0.001.\n",
      "Epoch 28/100\n",
      "23/23 [==============================] - 0s 4ms/step - loss: 0.1703 - accuracy: 0.9514 - val_loss: 0.2453 - val_accuracy: 0.8778 - lr: 0.0010\n",
      "\n",
      "Epoch 29: LearningRateScheduler setting learning rate to 0.001.\n",
      "Epoch 29/100\n",
      "23/23 [==============================] - 0s 4ms/step - loss: 0.1689 - accuracy: 0.9500 - val_loss: 0.2486 - val_accuracy: 0.9000 - lr: 0.0010\n",
      "\n",
      "Epoch 30: LearningRateScheduler setting learning rate to 0.001.\n",
      "Epoch 30/100\n",
      "23/23 [==============================] - 0s 4ms/step - loss: 0.1639 - accuracy: 0.9458 - val_loss: 0.2516 - val_accuracy: 0.8778 - lr: 0.0010\n",
      "\n",
      "Epoch 31: LearningRateScheduler setting learning rate to 0.001.\n",
      "Epoch 31/100\n",
      "23/23 [==============================] - 0s 4ms/step - loss: 0.1600 - accuracy: 0.9556 - val_loss: 0.2491 - val_accuracy: 0.9111 - lr: 0.0010\n",
      "\n",
      "Epoch 32: LearningRateScheduler setting learning rate to 0.001.\n",
      "Epoch 32/100\n",
      "23/23 [==============================] - 0s 4ms/step - loss: 0.1556 - accuracy: 0.9542 - val_loss: 0.2421 - val_accuracy: 0.9111 - lr: 0.0010\n",
      "\n",
      "Epoch 33: LearningRateScheduler setting learning rate to 0.001.\n",
      "Epoch 33/100\n",
      "23/23 [==============================] - 0s 4ms/step - loss: 0.1573 - accuracy: 0.9542 - val_loss: 0.2486 - val_accuracy: 0.9111 - lr: 0.0010\n",
      "\n",
      "Epoch 34: LearningRateScheduler setting learning rate to 0.001.\n",
      "Epoch 34/100\n",
      "23/23 [==============================] - 0s 4ms/step - loss: 0.1560 - accuracy: 0.9486 - val_loss: 0.2457 - val_accuracy: 0.9111 - lr: 0.0010\n",
      "\n",
      "Epoch 35: LearningRateScheduler setting learning rate to 0.001.\n",
      "Epoch 35/100\n",
      "23/23 [==============================] - 0s 4ms/step - loss: 0.1512 - accuracy: 0.9569 - val_loss: 0.2481 - val_accuracy: 0.9111 - lr: 0.0010\n",
      "\n",
      "Epoch 36: LearningRateScheduler setting learning rate to 0.001.\n",
      "Epoch 36/100\n",
      "23/23 [==============================] - 0s 5ms/step - loss: 0.1476 - accuracy: 0.9583 - val_loss: 0.2500 - val_accuracy: 0.9111 - lr: 0.0010\n",
      "\n",
      "Epoch 37: LearningRateScheduler setting learning rate to 0.001.\n",
      "Epoch 37/100\n",
      "23/23 [==============================] - 0s 4ms/step - loss: 0.1503 - accuracy: 0.9556 - val_loss: 0.2490 - val_accuracy: 0.8889 - lr: 0.0010\n",
      "\n",
      "Epoch 38: LearningRateScheduler setting learning rate to 0.001.\n",
      "Epoch 38/100\n",
      "23/23 [==============================] - 0s 4ms/step - loss: 0.1470 - accuracy: 0.9500 - val_loss: 0.2450 - val_accuracy: 0.9000 - lr: 0.0010\n",
      "\n",
      "Epoch 39: LearningRateScheduler setting learning rate to 0.001.\n",
      "Epoch 39/100\n",
      "23/23 [==============================] - 0s 4ms/step - loss: 0.1473 - accuracy: 0.9542 - val_loss: 0.2445 - val_accuracy: 0.9000 - lr: 0.0010\n",
      "\n",
      "Epoch 40: LearningRateScheduler setting learning rate to 0.001.\n",
      "Epoch 40/100\n",
      "23/23 [==============================] - 0s 4ms/step - loss: 0.1448 - accuracy: 0.9528 - val_loss: 0.2418 - val_accuracy: 0.9111 - lr: 0.0010\n",
      "\n",
      "Epoch 41: LearningRateScheduler setting learning rate to 0.001.\n",
      "Epoch 41/100\n",
      "23/23 [==============================] - 0s 5ms/step - loss: 0.1420 - accuracy: 0.9472 - val_loss: 0.2435 - val_accuracy: 0.9111 - lr: 0.0010\n",
      "\n",
      "Epoch 42: LearningRateScheduler setting learning rate to 0.01.\n",
      "Epoch 42/100\n",
      "23/23 [==============================] - 0s 4ms/step - loss: 0.2046 - accuracy: 0.9097 - val_loss: 0.2707 - val_accuracy: 0.9000 - lr: 0.0100\n",
      "\n",
      "Epoch 43: LearningRateScheduler setting learning rate to 0.01.\n",
      "Epoch 43/100\n",
      "23/23 [==============================] - 0s 4ms/step - loss: 0.2955 - accuracy: 0.8806 - val_loss: 0.5418 - val_accuracy: 0.8556 - lr: 0.0100\n",
      "\n",
      "Epoch 44: LearningRateScheduler setting learning rate to 0.01.\n",
      "Epoch 44/100\n",
      "23/23 [==============================] - 0s 4ms/step - loss: 0.3569 - accuracy: 0.8583 - val_loss: 0.5215 - val_accuracy: 0.7333 - lr: 0.0100\n",
      "\n",
      "Epoch 45: LearningRateScheduler setting learning rate to 0.01.\n",
      "Epoch 45/100\n",
      "23/23 [==============================] - 0s 4ms/step - loss: 0.4012 - accuracy: 0.8264 - val_loss: 0.4708 - val_accuracy: 0.7889 - lr: 0.0100\n",
      "\n",
      "Epoch 46: LearningRateScheduler setting learning rate to 0.005.\n",
      "Epoch 46/100\n",
      "23/23 [==============================] - 0s 4ms/step - loss: 0.3308 - accuracy: 0.8778 - val_loss: 0.2943 - val_accuracy: 0.8667 - lr: 0.0050\n",
      "\n",
      "Epoch 47: LearningRateScheduler setting learning rate to 0.005.\n",
      "Epoch 47/100\n",
      "23/23 [==============================] - 0s 4ms/step - loss: 0.2228 - accuracy: 0.9208 - val_loss: 0.2467 - val_accuracy: 0.9000 - lr: 0.0050\n",
      "\n",
      "Epoch 48: LearningRateScheduler setting learning rate to 0.005.\n",
      "Epoch 48/100\n",
      "23/23 [==============================] - 0s 5ms/step - loss: 0.2070 - accuracy: 0.9236 - val_loss: 0.2426 - val_accuracy: 0.9000 - lr: 0.0050\n",
      "\n",
      "Epoch 49: LearningRateScheduler setting learning rate to 0.005.\n",
      "Epoch 49/100\n",
      "23/23 [==============================] - 0s 4ms/step - loss: 0.1870 - accuracy: 0.9333 - val_loss: 0.2347 - val_accuracy: 0.9000 - lr: 0.0050\n",
      "\n",
      "Epoch 50: LearningRateScheduler setting learning rate to 0.005.\n",
      "Epoch 50/100\n",
      "23/23 [==============================] - 0s 4ms/step - loss: 0.1688 - accuracy: 0.9431 - val_loss: 0.2508 - val_accuracy: 0.8889 - lr: 0.0050\n",
      "\n",
      "Epoch 51: LearningRateScheduler setting learning rate to 0.0025.\n",
      "Epoch 51/100\n",
      "23/23 [==============================] - 0s 4ms/step - loss: 0.1498 - accuracy: 0.9458 - val_loss: 0.2487 - val_accuracy: 0.9000 - lr: 0.0025\n",
      "\n",
      "Epoch 52: LearningRateScheduler setting learning rate to 0.0025.\n",
      "Epoch 52/100\n",
      "23/23 [==============================] - 0s 4ms/step - loss: 0.1328 - accuracy: 0.9583 - val_loss: 0.2183 - val_accuracy: 0.9000 - lr: 0.0025\n",
      "\n",
      "Epoch 53: LearningRateScheduler setting learning rate to 0.0025.\n",
      "Epoch 53/100\n",
      "23/23 [==============================] - 0s 4ms/step - loss: 0.1273 - accuracy: 0.9583 - val_loss: 0.2150 - val_accuracy: 0.9222 - lr: 0.0025\n",
      "\n",
      "Epoch 54: LearningRateScheduler setting learning rate to 0.0025.\n",
      "Epoch 54/100\n",
      "23/23 [==============================] - 0s 4ms/step - loss: 0.1228 - accuracy: 0.9583 - val_loss: 0.2251 - val_accuracy: 0.9111 - lr: 0.0025\n",
      "\n",
      "Epoch 55: LearningRateScheduler setting learning rate to 0.0025.\n",
      "Epoch 55/100\n",
      "23/23 [==============================] - 0s 4ms/step - loss: 0.1257 - accuracy: 0.9611 - val_loss: 0.2221 - val_accuracy: 0.9333 - lr: 0.0025\n",
      "\n",
      "Epoch 56: LearningRateScheduler setting learning rate to 0.00125.\n",
      "Epoch 56/100\n",
      "23/23 [==============================] - 0s 5ms/step - loss: 0.1115 - accuracy: 0.9667 - val_loss: 0.2159 - val_accuracy: 0.9333 - lr: 0.0012\n",
      "\n",
      "Epoch 57: LearningRateScheduler setting learning rate to 0.00125.\n",
      "Epoch 57/100\n",
      "23/23 [==============================] - 0s 4ms/step - loss: 0.1021 - accuracy: 0.9708 - val_loss: 0.2141 - val_accuracy: 0.9333 - lr: 0.0012\n",
      "\n",
      "Epoch 58: LearningRateScheduler setting learning rate to 0.00125.\n",
      "Epoch 58/100\n",
      "23/23 [==============================] - 0s 4ms/step - loss: 0.1117 - accuracy: 0.9611 - val_loss: 0.2152 - val_accuracy: 0.9333 - lr: 0.0012\n",
      "\n",
      "Epoch 59: LearningRateScheduler setting learning rate to 0.00125.\n",
      "Epoch 59/100\n",
      "23/23 [==============================] - 0s 4ms/step - loss: 0.1053 - accuracy: 0.9736 - val_loss: 0.2102 - val_accuracy: 0.9333 - lr: 0.0012\n",
      "\n",
      "Epoch 60: LearningRateScheduler setting learning rate to 0.00125.\n",
      "Epoch 60/100\n",
      "23/23 [==============================] - 0s 4ms/step - loss: 0.1040 - accuracy: 0.9667 - val_loss: 0.2204 - val_accuracy: 0.9333 - lr: 0.0012\n",
      "\n",
      "Epoch 61: LearningRateScheduler setting learning rate to 0.000625.\n",
      "Epoch 61/100\n",
      "23/23 [==============================] - 0s 4ms/step - loss: 0.1010 - accuracy: 0.9694 - val_loss: 0.2160 - val_accuracy: 0.9333 - lr: 6.2500e-04\n",
      "\n",
      "Epoch 62: LearningRateScheduler setting learning rate to 0.000625.\n",
      "Epoch 62/100\n",
      "23/23 [==============================] - 0s 4ms/step - loss: 0.0956 - accuracy: 0.9708 - val_loss: 0.2156 - val_accuracy: 0.9222 - lr: 6.2500e-04\n",
      "\n",
      "Epoch 63: LearningRateScheduler setting learning rate to 0.000625.\n",
      "Epoch 63/100\n",
      "23/23 [==============================] - 0s 4ms/step - loss: 0.0937 - accuracy: 0.9750 - val_loss: 0.2146 - val_accuracy: 0.9333 - lr: 6.2500e-04\n",
      "\n",
      "Epoch 64: LearningRateScheduler setting learning rate to 0.000625.\n",
      "Epoch 64/100\n",
      "23/23 [==============================] - 0s 4ms/step - loss: 0.0968 - accuracy: 0.9708 - val_loss: 0.2109 - val_accuracy: 0.9333 - lr: 6.2500e-04\n",
      "\n",
      "Epoch 65: LearningRateScheduler setting learning rate to 0.000625.\n",
      "Epoch 65/100\n",
      "23/23 [==============================] - 0s 4ms/step - loss: 0.0933 - accuracy: 0.9792 - val_loss: 0.2106 - val_accuracy: 0.9333 - lr: 6.2500e-04\n",
      "\n",
      "Epoch 66: LearningRateScheduler setting learning rate to 0.0003125.\n",
      "Epoch 66/100\n",
      "23/23 [==============================] - 0s 4ms/step - loss: 0.0887 - accuracy: 0.9778 - val_loss: 0.2089 - val_accuracy: 0.9333 - lr: 3.1250e-04\n",
      "\n",
      "Epoch 67: LearningRateScheduler setting learning rate to 0.0003125.\n",
      "Epoch 67/100\n",
      "23/23 [==============================] - 0s 4ms/step - loss: 0.0834 - accuracy: 0.9806 - val_loss: 0.2096 - val_accuracy: 0.9333 - lr: 3.1250e-04\n",
      "\n",
      "Epoch 68: LearningRateScheduler setting learning rate to 0.0003125.\n",
      "Epoch 68/100\n",
      "23/23 [==============================] - 0s 4ms/step - loss: 0.0910 - accuracy: 0.9764 - val_loss: 0.2112 - val_accuracy: 0.9333 - lr: 3.1250e-04\n",
      "\n",
      "Epoch 69: LearningRateScheduler setting learning rate to 0.0003125.\n",
      "Epoch 69/100\n",
      "23/23 [==============================] - 0s 4ms/step - loss: 0.0918 - accuracy: 0.9722 - val_loss: 0.2112 - val_accuracy: 0.9333 - lr: 3.1250e-04\n",
      "\n",
      "Epoch 70: LearningRateScheduler setting learning rate to 0.0003125.\n",
      "Epoch 70/100\n",
      "23/23 [==============================] - 0s 4ms/step - loss: 0.0871 - accuracy: 0.9792 - val_loss: 0.2063 - val_accuracy: 0.9333 - lr: 3.1250e-04\n",
      "\n",
      "Epoch 71: LearningRateScheduler setting learning rate to 0.00015625.\n",
      "Epoch 71/100\n",
      "23/23 [==============================] - 0s 4ms/step - loss: 0.0914 - accuracy: 0.9722 - val_loss: 0.2060 - val_accuracy: 0.9333 - lr: 1.5625e-04\n",
      "\n",
      "Epoch 72: LearningRateScheduler setting learning rate to 0.00015625.\n",
      "Epoch 72/100\n",
      "23/23 [==============================] - 0s 4ms/step - loss: 0.0877 - accuracy: 0.9694 - val_loss: 0.2043 - val_accuracy: 0.9333 - lr: 1.5625e-04\n",
      "\n",
      "Epoch 73: LearningRateScheduler setting learning rate to 0.00015625.\n",
      "Epoch 73/100\n",
      "23/23 [==============================] - 0s 5ms/step - loss: 0.0910 - accuracy: 0.9736 - val_loss: 0.2031 - val_accuracy: 0.9333 - lr: 1.5625e-04\n",
      "\n",
      "Epoch 74: LearningRateScheduler setting learning rate to 0.00015625.\n",
      "Epoch 74/100\n",
      "23/23 [==============================] - 0s 5ms/step - loss: 0.0894 - accuracy: 0.9722 - val_loss: 0.2028 - val_accuracy: 0.9333 - lr: 1.5625e-04\n",
      "\n",
      "Epoch 75: LearningRateScheduler setting learning rate to 0.00015625.\n",
      "Epoch 75/100\n",
      "23/23 [==============================] - 0s 4ms/step - loss: 0.0856 - accuracy: 0.9819 - val_loss: 0.2019 - val_accuracy: 0.9333 - lr: 1.5625e-04\n",
      "\n",
      "Epoch 76: LearningRateScheduler setting learning rate to 7.8125e-05.\n",
      "Epoch 76/100\n",
      "23/23 [==============================] - 0s 5ms/step - loss: 0.0898 - accuracy: 0.9792 - val_loss: 0.2010 - val_accuracy: 0.9333 - lr: 7.8125e-05\n",
      "\n",
      "Epoch 77: LearningRateScheduler setting learning rate to 7.8125e-05.\n",
      "Epoch 77/100\n",
      "23/23 [==============================] - 0s 4ms/step - loss: 0.0853 - accuracy: 0.9736 - val_loss: 0.2008 - val_accuracy: 0.9333 - lr: 7.8125e-05\n",
      "\n",
      "Epoch 78: LearningRateScheduler setting learning rate to 7.8125e-05.\n",
      "Epoch 78/100\n",
      "23/23 [==============================] - 0s 4ms/step - loss: 0.0886 - accuracy: 0.9708 - val_loss: 0.2007 - val_accuracy: 0.9333 - lr: 7.8125e-05\n",
      "\n",
      "Epoch 79: LearningRateScheduler setting learning rate to 7.8125e-05.\n",
      "Epoch 79/100\n",
      "23/23 [==============================] - 0s 4ms/step - loss: 0.0832 - accuracy: 0.9764 - val_loss: 0.2010 - val_accuracy: 0.9333 - lr: 7.8125e-05\n",
      "\n",
      "Epoch 80: LearningRateScheduler setting learning rate to 7.8125e-05.\n",
      "Epoch 80/100\n",
      "23/23 [==============================] - 0s 4ms/step - loss: 0.0852 - accuracy: 0.9708 - val_loss: 0.2005 - val_accuracy: 0.9333 - lr: 7.8125e-05\n",
      "\n",
      "Epoch 81: LearningRateScheduler setting learning rate to 3.90625e-05.\n",
      "Epoch 81/100\n",
      "23/23 [==============================] - 0s 5ms/step - loss: 0.0890 - accuracy: 0.9750 - val_loss: 0.2005 - val_accuracy: 0.9333 - lr: 3.9062e-05\n",
      "\n",
      "Epoch 82: LearningRateScheduler setting learning rate to 3.90625e-05.\n",
      "Epoch 82/100\n",
      "23/23 [==============================] - 0s 4ms/step - loss: 0.0850 - accuracy: 0.9792 - val_loss: 0.2003 - val_accuracy: 0.9333 - lr: 3.9062e-05\n",
      "\n",
      "Epoch 83: LearningRateScheduler setting learning rate to 3.90625e-05.\n",
      "Epoch 83/100\n",
      "23/23 [==============================] - 0s 4ms/step - loss: 0.0879 - accuracy: 0.9819 - val_loss: 0.2002 - val_accuracy: 0.9333 - lr: 3.9062e-05\n",
      "\n",
      "Epoch 84: LearningRateScheduler setting learning rate to 3.90625e-05.\n",
      "Epoch 84/100\n",
      "23/23 [==============================] - 0s 4ms/step - loss: 0.0886 - accuracy: 0.9764 - val_loss: 0.2004 - val_accuracy: 0.9333 - lr: 3.9062e-05\n",
      "\n",
      "Epoch 85: LearningRateScheduler setting learning rate to 3.90625e-05.\n",
      "Epoch 85/100\n",
      "23/23 [==============================] - 0s 4ms/step - loss: 0.0834 - accuracy: 0.9778 - val_loss: 0.2002 - val_accuracy: 0.9333 - lr: 3.9062e-05\n",
      "\n",
      "Epoch 86: LearningRateScheduler setting learning rate to 1.953125e-05.\n",
      "Epoch 86/100\n",
      "23/23 [==============================] - 0s 4ms/step - loss: 0.0893 - accuracy: 0.9792 - val_loss: 0.1999 - val_accuracy: 0.9333 - lr: 1.9531e-05\n",
      "\n",
      "Epoch 87: LearningRateScheduler setting learning rate to 1.953125e-05.\n",
      "Epoch 87/100\n",
      "23/23 [==============================] - 0s 4ms/step - loss: 0.0876 - accuracy: 0.9764 - val_loss: 0.1998 - val_accuracy: 0.9333 - lr: 1.9531e-05\n",
      "\n",
      "Epoch 88: LearningRateScheduler setting learning rate to 1.953125e-05.\n",
      "Epoch 88/100\n",
      "23/23 [==============================] - 0s 4ms/step - loss: 0.0883 - accuracy: 0.9722 - val_loss: 0.1998 - val_accuracy: 0.9333 - lr: 1.9531e-05\n",
      "\n",
      "Epoch 89: LearningRateScheduler setting learning rate to 1.953125e-05.\n",
      "Epoch 89/100\n",
      "23/23 [==============================] - 0s 5ms/step - loss: 0.0849 - accuracy: 0.9792 - val_loss: 0.1997 - val_accuracy: 0.9333 - lr: 1.9531e-05\n",
      "\n",
      "Epoch 90: LearningRateScheduler setting learning rate to 1.953125e-05.\n",
      "Epoch 90/100\n",
      "23/23 [==============================] - 0s 4ms/step - loss: 0.0903 - accuracy: 0.9819 - val_loss: 0.1997 - val_accuracy: 0.9333 - lr: 1.9531e-05\n",
      "\n",
      "Epoch 91: LearningRateScheduler setting learning rate to 9.765625e-06.\n",
      "Epoch 91/100\n",
      "23/23 [==============================] - 0s 4ms/step - loss: 0.0871 - accuracy: 0.9764 - val_loss: 0.1997 - val_accuracy: 0.9333 - lr: 9.7656e-06\n",
      "\n",
      "Epoch 92: LearningRateScheduler setting learning rate to 9.765625e-06.\n",
      "Epoch 92/100\n",
      "23/23 [==============================] - 0s 4ms/step - loss: 0.0878 - accuracy: 0.9694 - val_loss: 0.1996 - val_accuracy: 0.9333 - lr: 9.7656e-06\n",
      "\n",
      "Epoch 93: LearningRateScheduler setting learning rate to 9.765625e-06.\n",
      "Epoch 93/100\n",
      "23/23 [==============================] - 0s 4ms/step - loss: 0.0807 - accuracy: 0.9778 - val_loss: 0.1994 - val_accuracy: 0.9333 - lr: 9.7656e-06\n",
      "\n",
      "Epoch 94: LearningRateScheduler setting learning rate to 9.765625e-06.\n",
      "Epoch 94/100\n",
      "23/23 [==============================] - 0s 4ms/step - loss: 0.0908 - accuracy: 0.9750 - val_loss: 0.1993 - val_accuracy: 0.9333 - lr: 9.7656e-06\n",
      "\n",
      "Epoch 95: LearningRateScheduler setting learning rate to 9.765625e-06.\n",
      "Epoch 95/100\n",
      "23/23 [==============================] - 0s 5ms/step - loss: 0.0855 - accuracy: 0.9806 - val_loss: 0.1992 - val_accuracy: 0.9333 - lr: 9.7656e-06\n",
      "\n",
      "Epoch 96: LearningRateScheduler setting learning rate to 4.8828125e-06.\n",
      "Epoch 96/100\n",
      "23/23 [==============================] - 0s 5ms/step - loss: 0.0848 - accuracy: 0.9806 - val_loss: 0.1991 - val_accuracy: 0.9333 - lr: 4.8828e-06\n",
      "\n",
      "Epoch 97: LearningRateScheduler setting learning rate to 4.8828125e-06.\n",
      "Epoch 97/100\n",
      "23/23 [==============================] - 0s 5ms/step - loss: 0.0860 - accuracy: 0.9819 - val_loss: 0.1992 - val_accuracy: 0.9333 - lr: 4.8828e-06\n",
      "\n",
      "Epoch 98: LearningRateScheduler setting learning rate to 4.8828125e-06.\n",
      "Epoch 98/100\n",
      "23/23 [==============================] - 0s 4ms/step - loss: 0.0878 - accuracy: 0.9736 - val_loss: 0.1991 - val_accuracy: 0.9333 - lr: 4.8828e-06\n",
      "\n",
      "Epoch 99: LearningRateScheduler setting learning rate to 4.8828125e-06.\n",
      "Epoch 99/100\n",
      "23/23 [==============================] - 0s 5ms/step - loss: 0.0869 - accuracy: 0.9764 - val_loss: 0.1991 - val_accuracy: 0.9333 - lr: 4.8828e-06\n",
      "\n",
      "Epoch 100: LearningRateScheduler setting learning rate to 4.8828125e-06.\n",
      "Epoch 100/100\n",
      "23/23 [==============================] - 0s 4ms/step - loss: 0.0853 - accuracy: 0.9778 - val_loss: 0.1991 - val_accuracy: 0.9333 - lr: 4.8828e-06\n"
     ]
    }
   ],
   "source": [
    "history = bmi_model.fit(X_train, y_train, batch_size=32, epochs=100, validation_data=(X_val, y_val), shuffle=False, callbacks=[lr_scheduler])"
   ]
  },
  {
   "cell_type": "code",
   "execution_count": 7,
   "metadata": {},
   "outputs": [
    {
     "data": {
      "image/png": "[encoded data removed]",
      "text/plain": [
       "<Figure size 1200x500 with 2 Axes>"
      ]
     },
     "metadata": {},
     "output_type": "display_data"
    }
   ],
   "source": [
    "plot_loss_and_accuracy(history)"
   ]
  },
  {
   "cell_type": "code",
   "execution_count": 8,
   "metadata": {},
   "outputs": [
    {
     "name": "stdout",
     "output_type": "stream",
     "text": [
      "3/3 - 0s - loss: 0.1907 - accuracy: 0.9444 - 25ms/epoch - 8ms/step\n",
      "Validation accuracy: 0.9444444179534912\n"
     ]
    }
   ],
   "source": [
    "val_loss, val_accuracy = bmi_model.evaluate(X_test, y_test, verbose=2)\n",
    "print(f'Validation accuracy: {val_accuracy}')"
   ]
  },
  {
   "cell_type": "markdown",
   "metadata": {},
   "source": [
    "### Float Quantization"
   ]
  },
  {
   "cell_type": "code",
   "execution_count": 9,
   "metadata": {},
   "outputs": [
    {
     "name": "stdout",
     "output_type": "stream",
     "text": [
      "INFO:tensorflow:Assets written to: C:\\Users\\muham\\AppData\\Local\\Temp\\tmp1gipxpha\\assets\n"
     ]
    }
   ],
   "source": [
    "converter_1 = tf.lite.TFLiteConverter.from_keras_model(bmi_model)\n",
    "converter_1.optimizations = [tf.lite.Optimize.DEFAULT]\n",
    "float_quant_model = converter_1.convert()\n",
    "\n",
    "with open(file = os.path.join(model_dir, 'BMIModel-Float.tflite'), mode = 'wb') as f:\n",
    "    f.write(float_quant_model)"
   ]
  },
  {
   "cell_type": "markdown",
   "metadata": {},
   "source": [
    "### Quantization Aware Training Model"
   ]
  },
  {
   "cell_type": "code",
   "execution_count": 12,
   "metadata": {},
   "outputs": [
    {
     "name": "stdout",
     "output_type": "stream",
     "text": [
      "Model: \"model\"\n",
      "_________________________________________________________________\n",
      " Layer (type)                Output Shape              Param #   \n",
      "=================================================================\n",
      " input_1 (InputLayer)        [(None, 3)]               0         \n",
      "                                                                 \n",
      " quantize_layer_1 (QuantizeL  (None, 3)                3         \n",
      " ayer)                                                           \n",
      "                                                                 \n",
      " quant_dense (QuantizeWrappe  (None, 512)              2049      \n",
      " rV2)                                                            \n",
      "                                                                 \n",
      " quant_activation (QuantizeW  (None, 512)              3         \n",
      " rapperV2)                                                       \n",
      "                                                                 \n",
      " quant_dense_1 (QuantizeWrap  (None, 512)              262659    \n",
      " perV2)                                                          \n",
      "                                                                 \n",
      " quant_batch_normalization (  (None, 512)              2051      \n",
      " QuantizeWrapperV2)                                              \n",
      "                                                                 \n",
      " quant_activation_1 (Quantiz  (None, 512)              3         \n",
      " eWrapperV2)                                                     \n",
      "                                                                 \n",
      " quant_dropout (QuantizeWrap  (None, 512)              1         \n",
      " perV2)                                                          \n",
      "                                                                 \n",
      " quant_dense_2 (QuantizeWrap  (None, 6)                3083      \n",
      " perV2)                                                          \n",
      "                                                                 \n",
      "=================================================================\n",
      "Total params: 269,852\n",
      "Trainable params: 268,806\n",
      "Non-trainable params: 1,046\n",
      "_________________________________________________________________\n"
     ]
    }
   ],
   "source": [
    "quantize_model = tfmot.quantization.keras.quantize_model\n",
    "\n",
    "# q_aware stands for for quantization aware.\n",
    "q_aware_model = quantize_model(bmi_model)\n",
    "\n",
    "# `quantize_model` requires a recompile.\n",
    "q_aware_model.compile(optimizer='adam',\n",
    "              loss=keras.losses.CategoricalCrossentropy(),\n",
    "              metrics=['accuracy'])\n",
    "\n",
    "q_aware_model.summary()"
   ]
  },
  {
   "cell_type": "code",
   "execution_count": 13,
   "metadata": {},
   "outputs": [
    {
     "name": "stdout",
     "output_type": "stream",
     "text": [
      "Epoch 1/5\n",
      "23/23 [==============================] - 1s 16ms/step - loss: 0.1066 - accuracy: 0.9653 - val_loss: 0.2199 - val_accuracy: 0.9222\n",
      "Epoch 2/5\n",
      "23/23 [==============================] - 0s 8ms/step - loss: 0.1074 - accuracy: 0.9653 - val_loss: 0.2129 - val_accuracy: 0.9333\n",
      "Epoch 3/5\n",
      "23/23 [==============================] - 0s 8ms/step - loss: 0.0962 - accuracy: 0.9764 - val_loss: 0.2217 - val_accuracy: 0.9222\n",
      "Epoch 4/5\n",
      "23/23 [==============================] - 0s 8ms/step - loss: 0.0874 - accuracy: 0.9778 - val_loss: 0.2040 - val_accuracy: 0.9444\n",
      "Epoch 5/5\n",
      "23/23 [==============================] - 0s 8ms/step - loss: 0.0834 - accuracy: 0.9764 - val_loss: 0.2075 - val_accuracy: 0.9333\n"
     ]
    },
    {
     "data": {
      "text/plain": [
       "<keras.callbacks.History at 0x1eee703cb20>"
      ]
     },
     "execution_count": 13,
     "metadata": {},
     "output_type": "execute_result"
    }
   ],
   "source": [
    "q_aware_model.fit(X_train, y_train, batch_size=32, epochs=5, validation_data=(X_val, y_val), shuffle=False)"
   ]
  },
  {
   "cell_type": "code",
   "execution_count": 14,
   "metadata": {},
   "outputs": [
    {
     "name": "stderr",
     "output_type": "stream",
     "text": [
      "WARNING:absl:Found untraced functions such as dense_layer_call_fn, dense_layer_call_and_return_conditional_losses, activation_layer_call_fn, activation_layer_call_and_return_conditional_losses, dense_1_layer_call_fn while saving (showing 5 of 12). These functions will not be directly callable after loading.\n"
     ]
    },
    {
     "name": "stdout",
     "output_type": "stream",
     "text": [
      "INFO:tensorflow:Assets written to: C:\\Users\\muham\\AppData\\Local\\Temp\\tmp2mnyadkj\\assets\n"
     ]
    },
    {
     "name": "stderr",
     "output_type": "stream",
     "text": [
      "INFO:tensorflow:Assets written to: C:\\Users\\muham\\AppData\\Local\\Temp\\tmp2mnyadkj\\assets\n",
      "c:\\Users\\muham\\miniconda3\\envs\\mlenv\\lib\\site-packages\\tensorflow\\lite\\python\\convert.py:766: UserWarning: Statistics for quantized inputs were expected, but not specified; continuing anyway.\n",
      "  warnings.warn(\"Statistics for quantized inputs were expected, but not \"\n"
     ]
    }
   ],
   "source": [
    "converter_2 = tf.lite.TFLiteConverter.from_keras_model(q_aware_model)\n",
    "converter_2.optimizations = [tf.lite.Optimize.DEFAULT]\n",
    "quantized_tflite_model = converter_2.convert()\n",
    "\n",
    "with open(file = os.path.join(model_dir, 'BMIModel-Quantized.tflite'), mode = 'wb') as f:\n",
    "    f.write(quantized_tflite_model)"
   ]
  },
  {
   "cell_type": "markdown",
   "metadata": {},
   "source": [
    "## Model Evaluation"
   ]
  },
  {
   "cell_type": "code",
   "execution_count": 18,
   "metadata": {},
   "outputs": [],
   "source": [
    "X_test = X_test.reset_index(drop=True)\n",
    "y_test = y_test.reset_index(drop=True)"
   ]
  },
  {
   "cell_type": "code",
   "execution_count": 29,
   "metadata": {},
   "outputs": [
    {
     "name": "stdout",
     "output_type": "stream",
     "text": [
      "<class 'pandas.core.frame.DataFrame'>\n",
      "RangeIndex: 90 entries, 0 to 89\n",
      "Data columns (total 6 columns):\n",
      " #   Column   Non-Null Count  Dtype  \n",
      "---  ------   --------------  -----  \n",
      " 0   Index_0  90 non-null     float32\n",
      " 1   Index_1  90 non-null     float32\n",
      " 2   Index_2  90 non-null     float32\n",
      " 3   Index_3  90 non-null     float32\n",
      " 4   Index_4  90 non-null     float32\n",
      " 5   Index_5  90 non-null     float32\n",
      "dtypes: float32(6)\n",
      "memory usage: 2.2 KB\n"
     ]
    }
   ],
   "source": [
    "y_test.info()"
   ]
  },
  {
   "cell_type": "code",
   "execution_count": 30,
   "metadata": {},
   "outputs": [],
   "source": [
    "def evaluate_model(interpreter):\n",
    "    input_index = interpreter.get_input_details()[0][\"index\"]\n",
    "    output_index = interpreter.get_output_details()[0][\"index\"]\n",
    "\n",
    "    # Run predictions on every image in the \"test\" dataset.\n",
    "    prediction_digits = []\n",
    "    for i in range(len(X_test)):\n",
    "        input_data = np.array(X_test.iloc[i].values.reshape(1, -1), dtype=np.float32)\n",
    "        interpreter.set_tensor(input_index, input_data)\n",
    "\n",
    "        # Run inference.\n",
    "        interpreter.invoke()\n",
    "\n",
    "        # Post-processing: remove batch dimension and find the digit with highest probability.\n",
    "        output = interpreter.get_tensor(output_index)\n",
    "        digit = np.argmax(output, axis=1)[0]\n",
    "        prediction_digits.append(digit)\n",
    "\n",
    "    # Convert y_test to NumPy array and ensure the lengths of y_test and prediction_digits are consistent\n",
    "    y_test_array = y_test.to_numpy()\n",
    "    y_test_labels = np.argmax(y_test_array, axis=1)  # Convert one-hot encoded y_test to class labels\n",
    "\n",
    "    print(f\"Length of y_test: {len(y_test_labels)}\")\n",
    "    print(f\"Length of prediction_digits: {len(prediction_digits)}\")\n",
    "\n",
    "    # Compare prediction results with ground truth labels to calculate accuracy.\n",
    "    prediction_digits = np.array(prediction_digits)\n",
    "    confussion_matrix = confusion_matrix(y_test_labels, prediction_digits)\n",
    "    classification_reports = classification_report(y_test_labels, prediction_digits)\n",
    "    accuracy = accuracy_score(y_test_labels, prediction_digits)\n",
    "    precision = precision_score(y_test_labels, prediction_digits, average='weighted')\n",
    "    recall = recall_score(y_test_labels, prediction_digits, average='weighted')\n",
    "    f1 = f1_score(y_test_labels, prediction_digits, average='weighted')\n",
    "\n",
    "    print('Classification Report:\\n', classification_reports)\n",
    "    print('Accuracy:', accuracy)\n",
    "    print('Precision Score:', precision)\n",
    "    print('Recall Score:', recall)\n",
    "    print('F1 Score:', f1)\n",
    "    \n",
    "    plt.figure(figsize=(10, 10))\n",
    "    sns.heatmap(confussion_matrix, annot=True, fmt='d', cmap='Blues')\n",
    "    plt.xlabel('Predicted')\n",
    "    plt.ylabel('Actual')\n",
    "    plt.title('Confusion Matrix')\n",
    "    plt.show()\n"
   ]
  },
  {
   "cell_type": "code",
   "execution_count": 31,
   "metadata": {},
   "outputs": [],
   "source": [
    "def evaluate_base_model(model):\n",
    "    yhat = model.predict(X_test)\n",
    "    yhat = np.argmax(yhat, axis=1)\n",
    "\n",
    "    confussion_matrix = confusion_matrix(np.argmax(y_test, axis=1), yhat)\n",
    "    classification_reports = classification_report(np.argmax(y_test, axis=1), yhat)\n",
    "    accuracy = accuracy_score(np.argmax(y_test, axis=1), yhat)\n",
    "    precision = precision_score(np.argmax(y_test, axis=1), yhat, average='weighted')\n",
    "    recall = recall_score(np.argmax(y_test, axis=1), yhat, average='weighted')\n",
    "    f1 = f1_score(np.argmax(y_test, axis=1), yhat, average='weighted')\n",
    "\n",
    "    print('Classification Report:\\n', classification_reports)\n",
    "    print('Accuracy:', accuracy)\n",
    "    print('Precission Score:', precision)\n",
    "    print('Recall Score:', recall)\n",
    "    print('F1 Score:', f1)\n",
    "    \n",
    "    plt.figure(figsize=(10, 10))\n",
    "    sns.heatmap(confussion_matrix, annot=True, fmt='d', cmap='Blues')\n",
    "    plt.xlabel('Predicted')\n",
    "    plt.ylabel('Actual')\n",
    "    plt.title('Confusion Matrix')\n",
    "    plt.show()"
   ]
  },
  {
   "cell_type": "markdown",
   "metadata": {},
   "source": [
    "### Float Quantization"
   ]
  },
  {
   "cell_type": "code",
   "execution_count": 32,
   "metadata": {},
   "outputs": [
    {
     "name": "stdout",
     "output_type": "stream",
     "text": [
      "Length of y_test: 90\n",
      "Length of prediction_digits: 90\n",
      "Classification Report:\n",
      "               precision    recall  f1-score   support\n",
      "\n",
      "           0       1.00      1.00      1.00         2\n",
      "           1       1.00      0.67      0.80         3\n",
      "           2       0.93      0.93      0.93        15\n",
      "           3       0.94      1.00      0.97        15\n",
      "           4       0.88      0.95      0.91        22\n",
      "           5       1.00      0.94      0.97        33\n",
      "\n",
      "    accuracy                           0.94        90\n",
      "   macro avg       0.96      0.92      0.93        90\n",
      "weighted avg       0.95      0.94      0.94        90\n",
      "\n",
      "Accuracy: 0.9444444444444444\n",
      "Precision Score: 0.9479166666666666\n",
      "Recall Score: 0.9444444444444444\n",
      "F1 Score: 0.9441315061555244\n"
     ]
    },
    {
     "data": {
      "image/png": "[encoded data removed]",
      "text/plain": [
       "<Figure size 1000x1000 with 2 Axes>"
      ]
     },
     "metadata": {},
     "output_type": "display_data"
    }
   ],
   "source": [
    "interpreter_1 = tf.lite.Interpreter(model_content = float_quant_model)\n",
    "interpreter_1.allocate_tensors()\n",
    "\n",
    "evaluate_model(interpreter_1)"
   ]
  },
  {
   "cell_type": "markdown",
   "metadata": {},
   "source": [
    "### Quantization Aware Training "
   ]
  },
  {
   "cell_type": "code",
   "execution_count": 33,
   "metadata": {},
   "outputs": [
    {
     "name": "stdout",
     "output_type": "stream",
     "text": [
      "Length of y_test: 90\n",
      "Length of prediction_digits: 90\n",
      "Classification Report:\n",
      "               precision    recall  f1-score   support\n",
      "\n",
      "           0       1.00      1.00      1.00         2\n",
      "           1       1.00      0.67      0.80         3\n",
      "           2       0.93      0.93      0.93        15\n",
      "           3       1.00      1.00      1.00        15\n",
      "           4       0.88      1.00      0.94        22\n",
      "           5       1.00      0.94      0.97        33\n",
      "\n",
      "    accuracy                           0.96        90\n",
      "   macro avg       0.97      0.92      0.94        90\n",
      "weighted avg       0.96      0.96      0.96        90\n",
      "\n",
      "Accuracy: 0.9555555555555556\n",
      "Precision Score: 0.9595555555555555\n",
      "Recall Score: 0.9555555555555556\n",
      "F1 Score: 0.9551610520094562\n"
     ]
    },
    {
     "data": {
      "image/png": "[encoded data removed]",
      "text/plain": [
       "<Figure size 1000x1000 with 2 Axes>"
      ]
     },
     "metadata": {},
     "output_type": "display_data"
    }
   ],
   "source": [
    "interpreter_2 = tf.lite.Interpreter(model_content = quantized_tflite_model)\n",
    "interpreter_2.allocate_tensors()\n",
    "\n",
    "evaluate_model(interpreter_2)"
   ]
  },
  {
   "cell_type": "markdown",
   "metadata": {},
   "source": [
    "### Base Model"
   ]
  },
  {
   "cell_type": "code",
   "execution_count": 34,
   "metadata": {},
   "outputs": [
    {
     "name": "stdout",
     "output_type": "stream",
     "text": [
      "3/3 [==============================] - 0s 2ms/step\n",
      "Classification Report:\n",
      "               precision    recall  f1-score   support\n",
      "\n",
      "           0       1.00      1.00      1.00         2\n",
      "           1       1.00      0.67      0.80         3\n",
      "           2       0.93      0.93      0.93        15\n",
      "           3       0.94      1.00      0.97        15\n",
      "           4       0.88      0.95      0.91        22\n",
      "           5       1.00      0.94      0.97        33\n",
      "\n",
      "    accuracy                           0.94        90\n",
      "   macro avg       0.96      0.92      0.93        90\n",
      "weighted avg       0.95      0.94      0.94        90\n",
      "\n",
      "Accuracy: 0.9444444444444444\n",
      "Precission Score: 0.9479166666666666\n",
      "Recall Score: 0.9444444444444444\n",
      "F1 Score: 0.9441315061555244\n"
     ]
    },
    {
     "data": {
      "image/png": "[encoded data removed]",
      "text/plain": [
       "<Figure size 1000x1000 with 2 Axes>"
      ]
     },
     "metadata": {},
     "output_type": "display_data"
    }
   ],
   "source": [
    "evaluate_base_model(bmi_model)"
   ]
  },
  {
   "cell_type": "code",
   "execution_count": 37,
   "metadata": {},
   "outputs": [
    {
     "name": "stdout",
     "output_type": "stream",
     "text": [
      "INFO:tensorflow:Assets written to: E:\\Repositories\\personal-projects\\ai-ml-projects\\bmi-classification\\models\\BMIModel_SavedModel-tf\\assets\n"
     ]
    },
    {
     "name": "stderr",
     "output_type": "stream",
     "text": [
      "INFO:tensorflow:Assets written to: E:\\Repositories\\personal-projects\\ai-ml-projects\\bmi-classification\\models\\BMIModel_SavedModel-tf\\assets\n"
     ]
    }
   ],
   "source": [
    "bmi_model.save(os.path.join(model_dir, 'BMIModel.h5'))\n",
    "bmi_model.save(os.path.join(model_dir, 'BMIModel_SavedModel-tf'), save_format='tf')"
   ]
  },
  {
   "cell_type": "code",
   "execution_count": 38,
   "metadata": {},
   "outputs": [
    {
     "name": "stdout",
     "output_type": "stream",
     "text": [
      "INFO:tensorflow:Assets written to: E:\\Repositories\\personal-projects\\ai-ml-projects\\bmi-classification\\models\\BMIModel_SavedModel-keras\\assets\n"
     ]
    },
    {
     "name": "stderr",
     "output_type": "stream",
     "text": [
      "INFO:tensorflow:Assets written to: E:\\Repositories\\personal-projects\\ai-ml-projects\\bmi-classification\\models\\BMIModel_SavedModel-keras\\assets\n"
     ]
    }
   ],
   "source": [
    "bmi_model.save(os.path.join(model_dir, 'BMIModel_SavedModel-keras'), save_format='keras')"
   ]
  }
 ],
 "metadata": {
  "kernelspec": {
   "display_name": "mlenv",
   "language": "python",
   "name": "python3"
  },
  "language_info": {
   "codemirror_mode": {
    "name": "ipython",
    "version": 3
   },
   "file_extension": ".py",
   "mimetype": "text/x-python",
   "name": "python",
   "nbconvert_exporter": "python",
   "pygments_lexer": "ipython3",
   "version": "3.10.9"
  }
 },
 "nbformat": 4,
 "nbformat_minor": 2
}
